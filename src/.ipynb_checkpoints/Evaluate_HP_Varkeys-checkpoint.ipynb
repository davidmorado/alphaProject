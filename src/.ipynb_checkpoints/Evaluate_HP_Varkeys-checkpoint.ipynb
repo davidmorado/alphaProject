{
 "cells": [
  {
   "cell_type": "code",
   "execution_count": 5,
   "metadata": {},
   "outputs": [],
   "source": [
    "%qtconsole\n",
    "import pickle\n",
    "import os"
   ]
  },
  {
   "cell_type": "code",
   "execution_count": 4,
   "metadata": {},
   "outputs": [],
   "source": [
    "results = []\n",
    "for filename in os.listdir(\"results/\"):\n",
    "    with open(\"results/\" + filename, 'rb') as f:\n",
    "        results.append(pickle.load(f))"
   ]
  },
  {
   "cell_type": "code",
   "execution_count": 22,
   "metadata": {},
   "outputs": [
    {
     "name": "stdout",
     "output_type": "stream",
     "text": [
      "Number of keys: 50\n",
      "0.749\n",
      "Number of keys: 100\n",
      "0.7488\n",
      "Number of keys: 150\n",
      "0.7476\n",
      "Number of keys: 200\n",
      "0.7505\n",
      "Number of keys: 250\n",
      "0.7189\n",
      "Number of keys: 300\n",
      "0.7435\n",
      "Number of keys: 350\n",
      "0.7268\n",
      "Number of keys: 400\n",
      "0.746\n",
      "Number of keys: 450\n",
      "0.7356\n",
      "Number of keys: 500\n",
      "0.7347\n",
      "Number of keys: 550\n",
      "0.7515\n",
      "Number of keys: 600\n",
      "0.736\n",
      "Number of keys: 650\n",
      "0.7407\n",
      "Number of keys: 700\n",
      "0.7408\n",
      "Number of keys: 750\n",
      "0.7375\n",
      "Number of keys: 800\n",
      "0.7255\n",
      "Number of keys: 850\n",
      "0.7399\n",
      "Number of keys: 900\n",
      "0.746\n",
      "Number of keys: 950\n",
      "0.7542\n"
     ]
    }
   ],
   "source": [
    "# print final validation accuracy for each number_of_keys_per_class\n",
    "keys = []\n",
    "val_acc = []\n",
    "for i in range(19):\n",
    "    print(\"Number of keys: \" + str(50 + 50*i))\n",
    "    print(results[i][0][-1])"
   ]
  },
  {
   "cell_type": "code",
   "execution_count": null,
   "metadata": {},
   "outputs": [],
   "source": []
  }
 ],
 "metadata": {
  "kernelspec": {
   "display_name": "Python 3",
   "language": "python",
   "name": "python3"
  },
  "language_info": {
   "codemirror_mode": {
    "name": "ipython",
    "version": 3
   },
   "file_extension": ".py",
   "mimetype": "text/x-python",
   "name": "python",
   "nbconvert_exporter": "python",
   "pygments_lexer": "ipython3",
   "version": "3.6.8"
  }
 },
 "nbformat": 4,
 "nbformat_minor": 2
}
