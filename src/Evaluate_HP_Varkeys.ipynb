{
 "cells": [
  {
   "cell_type": "code",
   "execution_count": 12,
   "metadata": {},
   "outputs": [],
   "source": [
    "#%qtconsole\n",
    "import pickle\n",
    "import os\n",
    "import matplotlib.pyplot as plt\n",
    "import re"
   ]
  },
  {
   "cell_type": "code",
   "execution_count": 20,
   "metadata": {},
   "outputs": [],
   "source": [
    "results = []\n",
    "for filename in os.listdir(\"results/\"):\n",
    "    if \"pkl\" not in filename:\n",
    "        with open(\"results/\" + filename, 'rb') as f:\n",
    "            print(filename)\n",
    "            results.append(pickle.load(f))"
   ]
  },
  {
   "cell_type": "code",
   "execution_count": null,
   "metadata": {},
   "outputs": [],
   "source": [
    "# print final validation accuracy for each number_of_keys_per_class\n",
    "keys = []\n",
    "val_acc = []\n",
    "acc = []\n",
    "loss = []\n",
    "val_loss = []\n",
    "for i in range(len(results)):\n",
    "    n_keys = 50 + 50*i\n",
    "    keys.append(n_keys)\n",
    "    val_acc_i = results[i][0][-1]\n",
    "    val_acc.append(val_acc_i)\n",
    "    acc_i = results[i][1][-1]\n",
    "    acc.append(acc_i)\n",
    "    loss_i = results[i][2][-1]\n",
    "    loss.append(loss_i)\n",
    "    val_loss_i = results[i][3][-1]\n",
    "    val_loss.append(val_loss_i)"
   ]
  },
  {
   "cell_type": "code",
   "execution_count": null,
   "metadata": {},
   "outputs": [],
   "source": [
    "plt.plot(keys, val_acc)"
   ]
  },
  {
   "cell_type": "code",
   "execution_count": null,
   "metadata": {},
   "outputs": [],
   "source": [
    "plt.plot(keys, acc)\n",
    "plt.plot(keys, val_acc, c='r')"
   ]
  },
  {
   "cell_type": "code",
   "execution_count": null,
   "metadata": {},
   "outputs": [],
   "source": [
    "plt.plot(keys, loss)\n",
    "plt.plot(keys, val_loss, c='r')"
   ]
  },
  {
   "cell_type": "code",
   "execution_count": null,
   "metadata": {},
   "outputs": [],
   "source": [
    "plt.plot(keys, val_loss)"
   ]
  },
  {
   "cell_type": "code",
   "execution_count": null,
   "metadata": {},
   "outputs": [],
   "source": []
  }
 ],
 "metadata": {
  "kernelspec": {
   "display_name": "Python 3",
   "language": "python",
   "name": "python3"
  }
 },
 "nbformat": 4,
 "nbformat_minor": 2
}
